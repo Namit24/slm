{
 "cells": [
  {
   "cell_type": "code",
   "execution_count": null,
   "id": "f6549af9",
   "metadata": {},
   "outputs": [],
   "source": [
    "#importing libraries\n",
    "!pip install -U datasets tiktoken tqdm numpy torch matplotlib huggingface_hub\n",
    "import os\n",
    "import math\n",
    "import time\n",
    "from contextlib import nullcontext\n",
    "from dataclasses import dataclass, field\n",
    "from tqdm.auto import tqdm\n",
    "import json\n",
    "import numpy as np\n",
    "import torch\n",
    "import torch.nn as nn\n",
    "from torch.nn import functional as F\n",
    "from torch.utils.data import Dataset, DataLoader\n",
    "from torch.optim.lr_scheduler import LambdaLR\n",
    "import tiktoken\n",
    "from datasets import load_dataset\n",
    "import matplotlib.pyplot as plt"
   ]
  },
  {
   "cell_type": "code",
   "execution_count": null,
   "id": "9acf9922",
   "metadata": {},
   "outputs": [],
   "source": [
    "#tokenizer\n",
    "from datasets import load_dataset\n",
    "import numpy as np\n",
    "from tqdm.auto import tqdm\n",
    "import os\n",
    "import tiktoken \n",
    "import math\n",
    "\n",
    "\n",
    "enc = tiktoken.get_encoding(\"gpt2\")\n",
    "eot_token = enc.eot_token"
   ]
  },
  {
   "cell_type": "code",
   "execution_count": null,
   "id": "c8fda9e7",
   "metadata": {},
   "outputs": [],
   "source": [
    "def processing_bpe(sample):\n",
    "    text_data = sample.get('text', '')\n",
    "    if not isinstance(text_data, str): text_data = \"\"\n",
    "    ids = enc.encode_ordinary(text_data)\n",
    "    ids.append(eot_token)\n",
    "    out = {'ids': ids, 'len': len(ids)}\n",
    "    return out\n",
    "combined_data_dir = config.data_dir\n",
    "os.makedirs(combined_data_dir, exist_ok=True)\n",
    "train_filename = os.path.join(combined_data_dir, 'train_combined.bin')\n",
    "val_filename = os.path.join(combined_data_dir, 'val_combined.bin')"
   ]
  },
  {
   "cell_type": "code",
   "execution_count": null,
   "id": "9231259f",
   "metadata": {},
   "outputs": [],
   "source": []
  }
 ],
 "metadata": {
  "kernelspec": {
   "display_name": ".venv",
   "language": "python",
   "name": "python3"
  },
  "language_info": {
   "codemirror_mode": {
    "name": "ipython",
    "version": 3
   },
   "file_extension": ".py",
   "mimetype": "text/x-python",
   "name": "python",
   "nbconvert_exporter": "python",
   "pygments_lexer": "ipython3",
   "version": "3.13.7"
  }
 },
 "nbformat": 4,
 "nbformat_minor": 5
}
